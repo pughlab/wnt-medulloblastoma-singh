{
 "cells": [
  {
   "cell_type": "markdown",
   "metadata": {},
   "source": [
    "----\n",
    "# Re-anlaysis of Hovestadt et al.,\n",
    "\n",
    "L.Richards    \n",
    "April 2020    \n",
    "\n",
    "/mnt/work1/users/pughlab/projects/SinghLab_scMedullo/Brananvan_Wnt/PublicData_Analysis_April2020/\n",
    "\n",
    "----\n",
    "  \n",
    "\n",
    "  \n",
    "**Analysis Plan:** \n",
    "1. Download public human medulloblastoma scRNAseq data\n",
    "2. Cluster cells to generate tSNE using same methods as in Manoranjan et al. (similar to Figure 2)\n",
    "3. Score cells with GSVA as in Manoranjan et al. Figure 2A\n",
    "4. Determine significance threshold for cell classification based on gene signature scores\n",
    "5. Classify cells as Wnt + or Wnt -, as in as in Manoranjan et al. Figure 2b,d\n",
    "\n",
    "---\n",
    "# Updated Methods for Manoranjan et al., 2020\n",
    "---\n",
    "\n",
    "** Analysis of public scRNA-seq data**\n",
    "\n",
    "Publically available human medulloblastoma tumour scRNA-seq data was downloaded from (25 tumours, 7745 malignant cells)\n",
    "\n",
    "Public data from (log2(TPM/10+1)), we have to reverse the log2 and re-transform into ln for use in seurat. \n",
    "\n",
    "Relative gene expression was calculated by centering expression across all cells in the cohort using the ScaleData() function in Seurat. Identification of highly variable genes (4140 genes), principal component analysis (11 signicificant PCs determined by a scree plot) and SNN-Cliq-\n",
    "inspired clustering were performed in Seurat to generate t-distributed stochastic neighbor embedding (t-SNE) visualizations (Rtsne: Use the Rtsne package Barnes-Hut implementation of tSNE; default in Seurat)\n",
    "\n",
    "** Data Availability **\n",
    "\n",
    "Raw single cell RNA-sequencing data is available in the form of fastqs at [Singh Lab to insert accession and database information (ie. GEO)]. Processed single-cell RNA-sequencing data is available through the Broad Single Cell Portal (https://singlecell.broadinstitute.org/single_cell/study/SCP840).\n"
   ]
  },
  {
   "cell_type": "markdown",
   "metadata": {},
   "source": [
    "----\n",
    "## 1.0 Download data\n",
    "----\n",
    "    \n",
    "    \n",
    "1. [Hovestadt et al. (Northcott Lab)](https://www.nature.com/articles/s41586-019-1434-6)  \n",
    "    - 25 human medulloblastomas (23 diagnostic, 2 recurrent, more detail in Figure 1B)\n",
    "    - scRNA-seq performed with Smart-seq2 (7745 malignant cells)\n",
    "    - Normalized (log2(TPM/10+1)) expression matrices are available at [GSE119926]( GSE119926)\n",
    "    - This dataset will be used for downstream analysis, excluding xenografts\n",
    "\n",
    "Data location: /mnt/work1/users/pughlab/projects/SinghLab_scMedullo/Brananvan_Wnt/PublicData_Analysis_April2020/data/Hovestadt"
   ]
  },
  {
   "cell_type": "markdown",
   "metadata": {},
   "source": [
    "---\n",
    "## 2.0 Process Hovestadt et al. Dataset\n",
    "---\n",
    "\n",
    "- 25 tumours (5 WNT, 3 SHH, 8 GR3, 9 GR4)   \n",
    "- 7745 malignant cells\n",
    "- Tumours subtypes based on DNA methylation  \n",
    "- More details in [Figure1B](https://www.nature.com/articles/s41586-019-1434-6/figures/1) of paper  \n",
    "\n",
    "> Combine expression matrices across 25 samples   \n",
    "> Make a metadata file to annotate  "
   ]
  },
  {
   "cell_type": "code",
   "execution_count": null,
   "metadata": {
    "collapsed": true
   },
   "outputs": [],
   "source": [
    "setwd(\"~/pughlab/projects/SinghLab_scMedullo/Brananvan_Wnt/PublicData_Analysis_April2020/\")"
   ]
  },
  {
   "cell_type": "code",
   "execution_count": null,
   "metadata": {
    "collapsed": true
   },
   "outputs": [],
   "source": [
    "## reformat metadata downloaded from GEO\n",
    "\n",
    "meta.data <- read.table(\"data/Hovestadt/Meta_GSE119926_series_matrix.txt\", \n",
    "                        header = F,\n",
    "                        sep = \"\\t\"\n",
    "                       )\n",
    "meta.data <-t(meta.data)\n",
    "colnames(meta.data) <- meta.data[1, ]\n",
    "meta.data <- data.frame(meta.data[-1, ])\n",
    "#head(meta.data)\n",
    "\n",
    "###subset only tumours, no xenografts\n",
    "#table(meta.data$Sample_source_name_ch1) \n",
    "meta.data <- meta.data[-grep(\"xenograft\", meta.data$Sample_source_name_ch1), ]\n",
    "\n",
    "\n",
    "saveRDS(meta.data, file = \"./Clustering/Hovestadt_MB_Tumours_MetaData.rds\")"
   ]
  },
  {
   "cell_type": "markdown",
   "metadata": {},
   "source": [
    "---\n",
    "\n",
    "### Create merged expression matrix and metadata file"
   ]
  },
  {
   "cell_type": "code",
   "execution_count": null,
   "metadata": {
    "collapsed": true
   },
   "outputs": [],
   "source": [
    "suppressMessages(library(\"Seurat\", \n",
    "                         lib =\"/mnt/work1/users/pughlab/projects/BTSCs_scRNAseq/Manuscript/lib/\" ))\n",
    "\n",
    "suppressPackageStartupMessages({\n",
    "    #library(GSEABase)\n",
    "    library(GSVA)\n",
    "    #library(Biobase)\n",
    "    library(RColorBrewer)\n",
    "    library(parallel)\n",
    "    #library(GSA)\n",
    "    library(qvalue)\n",
    "    library(taRifx)\n",
    "})\n",
    "\n",
    "setwd(\"~/pughlab/projects/SinghLab_scMedullo/Brananvan_Wnt/PublicData_Analysis_April2020/\")"
   ]
  },
  {
   "cell_type": "code",
   "execution_count": null,
   "metadata": {
    "collapsed": true
   },
   "outputs": [],
   "source": [
    "### merge normalized expression matrices for tumour samples (n=25)\n",
    "### should have a total of ~7745 cells\n",
    "\n",
    "meta.data <- readRDS(\"./Clustering/Hovestadt_MB_Tumours_MetaData.rds\")\n",
    "meta.data <- remove.factors(meta.data)\n",
    "\n",
    "samples <- as.character(meta.data$Sample_title)\n",
    "samples\n",
    "\n",
    "files <- list.files(\"~/pughlab/projects/SinghLab_scMedullo/Brananvan_Wnt/PublicData_Analysis_April2020/data/Hovestadt/\", \n",
    "                    pattern = \"txt.gz\"\n",
    "                    )\n",
    "\n",
    "    file <- paste0(fastq.path, files[grep(samples[1], files)])\n",
    "    print(samples[1])\n",
    "    print(file)\n",
    "    raw.dat <- read.table(file)\n",
    "    print(dim(raw.dat))\n",
    "\n",
    "    sample.meta <- meta.data[meta.data$Sample_title == samples[1], ] #subset to metadata of loaded sample\n",
    "    sample.meta <-  sample.meta[rep(seq_len(nrow(sample.meta)), ncol(raw.dat)), ] #repeat metadata for # cells\n",
    "    rownames(sample.meta) <- colnames(raw.dat)\n",
    "\n",
    "    merged.exp <- raw.dat\n",
    "    merged.meta <- sample.meta\n",
    "    \n",
    "\n",
    "for (i in 2:length(samples)){\n",
    "    \n",
    "    file <- paste0(fastq.path, files[grep(samples[i], files)])\n",
    "    print(samples[i])\n",
    "    print(file)\n",
    "    raw.dat <- read.table(file)\n",
    "    print(dim(raw.dat))\n",
    "\n",
    "    sample.meta <- meta.data[meta.data$Sample_title == samples[i], ] #subset to metadata of loaded sample\n",
    "    sample.meta <-  sample.meta[rep(seq_len(nrow(sample.meta)), ncol(raw.dat)), ] #repeat metadata for # cells\n",
    "    rownames(sample.meta) <- colnames(raw.dat)\n",
    "    print(dim(sample.meta))\n",
    "\n",
    "    if(identical(rownames(merged.exp), rownames(raw.dat))){\n",
    "        \n",
    "        merged.exp <- cbind(merged.exp, raw.dat)\n",
    "        print(dim(merged.exp))\n",
    "        \n",
    "    } else {print(\"ERROR IN GENE ORDERING\")}\n",
    "    \n",
    "   if(identical(colnames(merged.meta), colnames(sample.meta))){\n",
    "        \n",
    "        merged.meta <- rbind(merged.meta, sample.meta)\n",
    "        print(dim(merged.meta))\n",
    "       \n",
    "    } else {print(\"ERROR IN METADATA NUMBERS\")}\n",
    "\n",
    "}\n",
    "\n",
    "saveRDS(merged.exp, file = \"./data/Hovestadt_MergedExpressionMatrix.rds\")\n",
    "saveRDS(merged.meta, file = \"./data/Hovestadt_MergedMetaData.rds\")"
   ]
  },
  {
   "cell_type": "markdown",
   "metadata": {},
   "source": [
    "---\n",
    "## 3.0 Cluster Hovestadt et al. Dataset with Seurat\n",
    "---\n",
    "\n",
    "Keep methods consistent with current clustering methods in Branavan's manuscript (aka those used to generate tSNE in Figure 2A-B).\n",
    "\n",
    "Publically downloaded data is already normalized, so we will skip the LogNormalize step in Seurat, and procede with ScaleData() and all subsequent steps as listed in methods. \n",
    "\n",
    "/mnt/work1/users/pughlab/projects/SinghLab_scMedullo/Brananvan_Wnt/PublicData_Analysis_April2020/Clustering"
   ]
  },
  {
   "cell_type": "code",
   "execution_count": null,
   "metadata": {
    "collapsed": true
   },
   "outputs": [],
   "source": [
    "setwd(\"/mnt/work1/users/pughlab/projects/SinghLab_scMedullo/Brananvan_Wnt/PublicData_Analysis_April2020/Clustering\")\n",
    "\n",
    "suppressMessages(library(\"Seurat\", \n",
    "                         lib =\"/mnt/work1/users/pughlab/projects/BTSCs_scRNAseq/Manuscript/lib/\" ))\n",
    "\n",
    "suppressPackageStartupMessages({\n",
    "    #library(GSEABase)\n",
    "    library(GSVA)\n",
    "    #library(Biobase)\n",
    "    library(RColorBrewer)\n",
    "    library(parallel)\n",
    "    #library(GSA)\n",
    "    library(qvalue)\n",
    "    library(taRifx)\n",
    "})\n"
   ]
  },
  {
   "cell_type": "code",
   "execution_count": null,
   "metadata": {
    "collapsed": true
   },
   "outputs": [],
   "source": [
    "### load in data\n",
    "\n",
    "log2.TPMs <- readRDS(\"~/pughlab/projects/SinghLab_scMedullo/Brananvan_Wnt/PublicData_Analysis_April2020/data/Hovestadt/Hovestadt_MergedExpressionMatrix.rds\")\n",
    "meta <- readRDS(\"~/pughlab/projects/SinghLab_scMedullo/Brananvan_Wnt/PublicData_Analysis_April2020/data/Hovestadt/Hovestadt_MergedMetaData.rds\")\n",
    "\n",
    "# Public data from (log2(TPM/10+1))\n",
    "# We have to reverse the log2 and re-transform into ln for use in seurat\n",
    "# This matrix can be used as input for normalized, log-transformed counts\n",
    "\n",
    "TPMs <- 2^log2.TPMs\n",
    "log.TPMs <- log(TPMs) ##this is the input for seurat@data slot\n",
    "\n",
    "\n",
    "##run Seurat on data\n",
    "##do not perform additional QC, since public data is already QC'ed\n",
    "\n",
    "Hovestadt <- CreateSeuratObject(raw.data = log.TPMs,\n",
    "                                min.cells = 0,\n",
    "                                min.gene = 0,\n",
    "                                normalization.method = NULL,\n",
    "                                meta.data = meta\n",
    "                               )\n",
    "\n",
    "Hovestadt <- FindVariableGenes(object = Hovestadt, \n",
    "                               mean.function = ExpMean, \n",
    "                               dispersion.function = LogVMR, \n",
    "                               x.low.cutoff = 0.0125, \n",
    "                               x.high.cutoff = 3, \n",
    "                               y.cutoff = 0.5\n",
    "                              )\n",
    "\n",
    "length(Hovestadt@var.genes) #6571 variabe genes\n",
    "\n",
    "Hovestadt <- ScaleData(object = Hovestadt, \n",
    "                       #vars.to.regress = c(\"nUMI\", \"percent.mito\")\n",
    "                      )\n",
    "\n",
    "Hovestadt <- RunPCA(object = Hovestadt, \n",
    "                    pc.genes = Hovestadt@var.genes, \n",
    "                    do.print = TRUE, \n",
    "                    pcs.print = 1:5,\n",
    "                    genes.print = 5\n",
    "                   )\n",
    "\n",
    "pdf(\"Hovestadt_elbowPlot.pdf\")\n",
    "PCElbowPlot(object = Hovestadt) ## 15 PCs\n",
    "dev.off()\n",
    "\n",
    "Hovestadt <- FindClusters(object = Hovestadt, \n",
    "                     reduction.type = \"pca\", \n",
    "                     dims.use = 1:15, \n",
    "                     resolution = 0.6, \n",
    "                     print.output = 0, \n",
    "                     save.SNN = TRUE\n",
    "                    )\n",
    "\n",
    "Hovestadt <- RunTSNE(object = Hovestadt, \n",
    "                     dims.use = 1:15, \n",
    "                     do.fast = TRUE\n",
    "                    )\n",
    "\n",
    "saveRDS(Hovestadt, file = \"Hovestadt_Seurat.rds\")"
   ]
  },
  {
   "cell_type": "markdown",
   "metadata": {},
   "source": [
    "----\n",
    "## 3.0 Score Cells with Gene Signatures (GSVA)\n",
    "----\n",
    "\n",
    "Reviewer says they want \"WNT signature cells\"to be assessed. Is this referring to the Wnt signature (indicative of Wnt pathway activity) or Wnt Subgroup gene signature?\n",
    "\n",
    "Figure 2A of Manoranjan et al., is visualizing the Wnt subgroup score with GSVA. \n",
    "\n",
    "For information on gene signatures, see Table S2: https://docs.google.com/spreadsheets/d/1bi3wwzgs-CiGIrqao--raF06YBjipw_m2SjXDE49h9I/edit?usp=sharing\n"
   ]
  },
  {
   "cell_type": "code",
   "execution_count": null,
   "metadata": {
    "collapsed": true
   },
   "outputs": [],
   "source": [
    "## load in gene signatures from Singh Lab\n",
    "load(\"~/pughlab/projects/SinghLab_scMedullo/Brananvan_Wnt/data/geneSets_SinghLab.Rdata\")\n",
    "str(gene.sets)\n",
    "\n",
    "## score genes signatures with GSVA on scaled data matrix \n",
    "\n",
    "dat <- data.matrix(Hovestadt@scale.data)\n",
    "\n",
    "EnrichmentScores <- gsva(expr = dat, \n",
    "                         gset.idx.list = gene.sets, \n",
    "                         method = \"gsva\",\n",
    "                         min.sz = 2, \n",
    "                         max.sz = Inf, \n",
    "                         mx.diff = TRUE, \n",
    "                         verbose = T, \n",
    "                         parallel.sz = 10\n",
    "                        )\n",
    "\n",
    "saveRDS(EnrichmentScores, file = \"EnrichmentScores_Hovestadt_ScaledData.rds\")\n",
    "\n",
    "meta.GSVA <- data.frame(t(EnrichmentScores))\n",
    "\n",
    "Hovestadt <- AddMetaData(Hovestadt, \n",
    "                         metadata = meta.GSVA\n",
    "                        )\n",
    "\n",
    "saveRDS(Hovestadt, file = )"
   ]
  },
  {
   "cell_type": "markdown",
   "metadata": {},
   "source": [
    "---\n",
    "## 4.0 Classify cells\n",
    "---\n",
    "\n",
    "Same method as currently used in Branavans paper. Create 100 random gene lists with same length as gene signature of interest. Score all cells for random gene signatures. Determine a 5% cutoff based on random scores. If gene signature of interset score in a cell surpasses cutoff, it is classified as being \"on\" for that gene signature.\n",
    "\n",
    "/mnt/work1/users/pughlab/projects/SinghLab_scMedullo/Brananvan_Wnt/PublicData_Analysis_April2020/GSVA/Random_Sigs"
   ]
  },
  {
   "cell_type": "markdown",
   "metadata": {},
   "source": [
    "----\n",
    "### 4.1 Generate 100 random gene sets per gene signature\n",
    "----"
   ]
  },
  {
   "cell_type": "code",
   "execution_count": null,
   "metadata": {
    "collapsed": true
   },
   "outputs": [],
   "source": [
    "suppressMessages(library(\"Seurat\", \n",
    "                         lib =\"/mnt/work1/users/pughlab/projects/BTSCs_scRNAseq/Manuscript/lib/\" ))\n",
    "\n",
    "suppressPackageStartupMessages({\n",
    "    #library(GSEABase)\n",
    "    library(GSVA)\n",
    "    #library(Biobase)\n",
    "    library(RColorBrewer)\n",
    "    library(parallel)\n",
    "    #library(GSA)\n",
    "    library(qvalue)\n",
    "    library(taRifx)\n",
    "})\n",
    "\n",
    "\n",
    "### load in data and gene signatures\n",
    "Wnt_medullo <- readRDS(\"../Hovestadt_Seurat_GSVA.rds\")\n",
    "load(\"~/pughlab/projects/SinghLab_scMedullo/Brananvan_Wnt/data/geneSets_SinghLab.Rdata\")\n",
    "str(gene.sets)\n",
    "\n",
    "\n",
    "### Generate random gene sets\n",
    "### 100 gene sets of same length of signature of interest\n",
    "\n",
    "for (i in 1:length(gene.sets)){\n",
    "    \n",
    "    sig.name <- names(gene.sets)[i]\n",
    "    print(sig.name)\n",
    "    \n",
    "    sig.length <- length(gene.sets[[i]])\n",
    "    print(sig.length)\n",
    "    \n",
    "    print(\"Generating random lists\")\n",
    "    random.sigs <- lapply(1:100, function(x) sample(rownames(Wnt_medullo@data),size = sig.length))\n",
    "    \n",
    "    names(random.sigs) <- paste0(\"Random\", 1:100, \"_\", sig.name)\n",
    "        \n",
    "    file1 <- paste0(sig.name, \"_random_lists.rds\")\n",
    "    print(file1)\n",
    "    saveRDS(random.sigs, file = file1)\n",
    "\n",
    "    \n",
    "}\n",
    "                        "
   ]
  },
  {
   "cell_type": "markdown",
   "metadata": {},
   "source": [
    "----\n",
    "### 4.2 Score random gene sets with GSVA\n",
    "----"
   ]
  },
  {
   "cell_type": "code",
   "execution_count": null,
   "metadata": {
    "collapsed": true
   },
   "outputs": [],
   "source": [
    "##### GSVA on random sigs \n",
    "\n",
    "dat <- as.matrix(Wnt_medullo@scale.data)\n",
    "\n",
    "files <- list.files(pattern = \"random_lists.rds\")\n",
    "\n",
    "for (i in 1:length(files)){\n",
    "    \n",
    "    print(\"---------\")\n",
    "    print(files[i])\n",
    "    print(Sys.time())\n",
    "    \n",
    "    random.sigs <- readRDS(files[i])\n",
    "    #print(head(random.sigs))\n",
    "    \n",
    "    print(\"Scoring random lists with GSVA\")\n",
    "    print(\"Scoring on scaled data\")\n",
    "    print(Sys.time())\n",
    "    \n",
    "    EnrichmentScores <- gsva(expr = dat, \n",
    "                         gset.idx.list = random.sigs, \n",
    "                         method = \"gsva\",\n",
    "                         min.sz = 2, \n",
    "                         max.sz = Inf, \n",
    "                         mx.diff = TRUE, \n",
    "                         verbose = T, \n",
    "                         parallel.sz = 10\n",
    "                        )\n",
    "    \n",
    "    print(\"Saving GSVA results\")\n",
    "    print(Sys.time())\n",
    "    \n",
    "    filename <- gsub(\"_random_lists.rds\", \"_GSVA_SCORES.rds\", files[i])\n",
    "    print(filename)\n",
    "    saveRDS(EnrichmentScores, file = filename)\n",
    "    \n",
    "    print(\"\")\n",
    "    print(\"\")\n",
    "    print(\"\")\n",
    "    print(\"\")\n",
    "    \n",
    "}"
   ]
  },
  {
   "cell_type": "markdown",
   "metadata": {
    "collapsed": true
   },
   "source": [
    "----\n",
    "### 4.3 Define 5% cutoff for cell classification\n",
    "----\n",
    "\n",
    "Each gene signature has its own cutoff"
   ]
  },
  {
   "cell_type": "code",
   "execution_count": null,
   "metadata": {
    "collapsed": true
   },
   "outputs": [],
   "source": [
    "path <- \"/mnt/work1/users/pughlab/projects/SinghLab_scMedullo/Brananvan_Wnt/PublicData_Analysis_April2020/GSVA/Random_Sigs/\"\n",
    "files <- list.files(path, pattern = \"GSVA_SCORES.rds\")\n",
    "files\n",
    "\n",
    "for (i in 1:length(files)){\n",
    "\n",
    "    load.file <- paste0(path, files[i])\n",
    "    print(load.file)\n",
    "    EnrichmentScores <- readRDS(load.file)\n",
    "    print(dim(EnrichmentScores))\n",
    "    \n",
    "    sig.name <- gsub(\"_GSVA_SCORES.rds\", \"\", files[i])\n",
    "    print(sig.name)\n",
    "    \n",
    "    bb <- as.vector(as.matrix(EnrichmentScores))\n",
    "    length(bb)\n",
    "    \n",
    "    d <- density(bb)\n",
    "    cutoff <- qnorm(0.95, mean = mean(bb), sd = sd(bb))\n",
    "\n",
    "    filename <- paste0(path, sig.name, \"_GSVA_RandomListCutoff.pdf\")\n",
    "    print(filename)\n",
    "\n",
    "    pdf(filename)\n",
    "\n",
    "    plot_raw <- plot(d,\n",
    "                 main = paste0(sig.name,\" - Random Signatures\"),\n",
    "                 xlab = \"GSVA Enrichment Score\"\n",
    "                )\n",
    "    legend(\"topright\",\n",
    "       legend = c(paste(\"Mean:\", round(mean(bb),3)),\n",
    "                          paste(\"Sd:\", round(sd(bb), 3)),\n",
    "                          paste(\"Cutoff:\", round(cutoff,3))\n",
    "                     ),\n",
    "               bty = 'n',\n",
    "               cex = 1\n",
    "          )\n",
    "        abline(v=cutoff, lty = 2, col = \"red\")\n",
    "dev.off()\n",
    "    \n",
    "    \n",
    "}"
   ]
  },
  {
   "cell_type": "markdown",
   "metadata": {},
   "source": [
    "---\n",
    "### 4.4 Use cutoffs to classify cells in Hovestadt dataset\n",
    "---\n",
    "\n",
    "Canonical_Wnt_Pathway = 0.22  \n",
    "common.Wnt = 0.129  \n",
    "Group3_Subgroup = 0.402  \n",
    "Group4_Subgroup = 0.309  \n",
    "KEGG_Wnt_pathway = 0.139  \n",
    "Shh_Subgroup = 0.258  \n",
    "TGP_GSVA = 0.575  \n",
    "Wnt_Subgroup = 0.304  "
   ]
  },
  {
   "cell_type": "code",
   "execution_count": null,
   "metadata": {
    "collapsed": true
   },
   "outputs": [],
   "source": [
    "suppressMessages(library(\"Seurat\", \n",
    "                         lib =\"/mnt/work1/users/pughlab/projects/BTSCs_scRNAseq/Manuscript/lib/\" ))\n",
    "\n",
    "#### load in Hovestadt seurat object\n",
    "Hovestadt <- readRDS(\"Hovestadt_Seurat_GSVA.rds\")\n",
    "colnames(Hovestadt@meta.data)[51:58] <- paste0(colnames(Hovestadt@meta.data)[51:58],\n",
    "                                               \"_GSVA\"\n",
    "                                              )\n",
    "\n",
    "### Add cutoffs to meta.data\n",
    "Hovestadt@meta.data$Canonical_Wnt_pathway_Cutoff  <- 0.22\n",
    "Hovestadt@meta.data$common.Wnt_Cutoff <- 0.129\n",
    "Hovestadt@meta.data$Group3_Subgroup_Cutoff <- 0.402\n",
    "Hovestadt@meta.data$Group4_Subgroup_Cutoff <- 0.309\n",
    "\n",
    "Hovestadt@meta.data$KEGG_Wnt_pathway_Cutoff <- 0.139\n",
    "Hovestadt@meta.data$Shh_Subgroup_Cutoff <- 0.258\n",
    "Hovestadt@meta.data$TGP_Cutoff <- 0.575\n",
    "Hovestadt@meta.data$Wnt_Subgroup_Cutoff <- 0.304\n",
    "\n",
    "### Classify data\n",
    "### 0 = does not pass threshold\n",
    "### 1 = passes cutoff\n",
    "\n",
    "Hovestadt@meta.data$Canonical_Wnt_pathway_Classification <- Hovestadt@meta.data$Canonical_Wnt_pathway_GSVA > Hovestadt@meta.data$Canonical_Wnt_pathway_Cutoff\n",
    "Hovestadt@meta.data$common.Wnt_Classification <- Hovestadt@meta.data$common.WNT_GSVA > Hovestadt@meta.data$common.Wnt_Cutoff\n",
    "Hovestadt@meta.data$Group3_Subgroup_Classification <- Hovestadt@meta.data$Group3_Subgroup_GSVA > Hovestadt@meta.data$Group3_Subgroup_Cutoff\n",
    "Hovestadt@meta.data$Group4_Subgroup_Classification <- Hovestadt@meta.data$Group4_Subgroup_GSVA > Hovestadt@meta.data$Group4_Subgroup_Cutoff\n",
    "Hovestadt@meta.data$KEGG_Wnt_pathway_Classification <- Hovestadt@meta.data$KEGG_Wnt_pathway_GSVA > Hovestadt@meta.data$KEGG_Wnt_pathway_Cutoff\n",
    "Hovestadt@meta.data$Shh_Subgroup_Classification <- Hovestadt@meta.data$Shh_Subgroup_GSVA > Hovestadt@meta.data$Shh_Subgroup_Cutoff\n",
    "Hovestadt@meta.data$Wnt_Subgroup_Classification <- Hovestadt@meta.data$Wnt_Subgroup_GSVA > Hovestadt@meta.data$Wnt_Subgroup_Cutoff\n",
    "\n",
    "### bind tSNE results \n",
    "meta <- Hovestadt@meta.data\n",
    "meta <- cbind(meta, Hovestadt@dr$tsne@cell.embeddings[ ,1:2])\n",
    "\n",
    "### save\n",
    "saveRDS(Hovestadt, file = \"Hovestadt_Seurat_GSVA.rds\")\n",
    "saveRDS(meta, file = \"Hovestadt_Seurat_GSVA_meta.rds\")"
   ]
  },
  {
   "cell_type": "markdown",
   "metadata": {},
   "source": [
    "---\n",
    "## 5.0 Plot publication figures\n",
    "---\n",
    "\n",
    "Branavan_Hovestadt_Patient_tSNE.pdf\n",
    "> tSNE colored by patient ID. Samples subgrouped according to methylation results from Hovestadt et al. (Figure 1). All cells are malignant using annotations from Hovestadt et al.\n",
    "\n",
    "Branavan_Hovestadt_WntSubgroup_tSNE.pdf\n",
    "> (left) tSNE colored by Wnt subgroup GSVA score    \n",
    "> (middle) tSNE colored by Wnt subgroup classfication   \n",
    "> (right) Proportion Wnt Subgroup+ cells across samples  \n",
    "\n",
    "Branavan_Hovestadt_KEGGWnt_tSNE.pdf\n",
    "> (left) tSNE colored by KEGG Wnt pathway GSVA score    \n",
    "> (middle) tSNE colored by KEGG Wnt pathway classfication   \n",
    "> (right) Proportion KEGG Wnt pathway+ cells across samples  \n",
    "\n",
    "Branavan_Hovestadt_CanonicalWnt_tSNE.pdf\n",
    "> (left) tSNE colored by Canonical Wnt Pathway GSVA score    \n",
    "> (middle) tSNE colored by Canonical Wnt Pathway classfication   \n",
    "> (right) Proportion Canonical Wnt Pathway+ cells across samples  \n",
    "\n",
    "\n",
    "\n",
    "/mnt/work1/users/pughlab/projects/SinghLab_scMedullo/Brananvan_Wnt/PublicData_Analysis_April2020/figures"
   ]
  },
  {
   "cell_type": "code",
   "execution_count": 2,
   "metadata": {
    "collapsed": true
   },
   "outputs": [],
   "source": [
    "library(ggplot2)\n",
    "library(RColorBrewer)"
   ]
  },
  {
   "cell_type": "code",
   "execution_count": 3,
   "metadata": {},
   "outputs": [
    {
     "data": {
      "text/plain": [
       "\n",
       " BCH1031 (Group 4)  BCH1205 (Group 3)       BCH807 (WNT)   BCH825 (Group 3) \n",
       "               273                326                307                330 \n",
       "   MUV11 (Group 3)    MUV19 (Group 4)    MUV27 (Group 4)    MUV29 (Group 3) \n",
       "               431                304                314                314 \n",
       "   MUV34 (Group 3)    MUV37 (Group 4)    MUV39 (Group 4) MUV41 (SHH-infant) \n",
       "               294                190                241                338 \n",
       "       MUV44 (WNT)        SJ129 (WNT)     SJ17 (Group 3)    SJ217 (Group 4) \n",
       "               301                313                334                316 \n",
       "SJ454 (SHH-infant)        SJ516 (WNT)  SJ577 (SHH-adult)    SJ617 (Group 3) \n",
       "               293                507                493                400 \n",
       "   SJ625 (Group 4)    SJ723 (Group 4)    SJ917 (Group 3)    SJ970 (Group 4) \n",
       "               328                 75                333                 52 \n",
       "        SJ99 (WNT) \n",
       "               338 "
      ]
     },
     "metadata": {},
     "output_type": "display_data"
    },
    {
     "data": {
      "text/html": [
       "<table>\n",
       "<thead><tr><th></th><th scope=col>nGene</th><th scope=col>nUMI</th><th scope=col>Sample_title</th><th scope=col>Sample_geo_accession</th><th scope=col>Sample_status</th><th scope=col>Sample_submission_date</th><th scope=col>Sample_last_update_date</th><th scope=col>Sample_type</th><th scope=col>Sample_channel_count</th><th scope=col>Sample_source_name_ch1</th><th scope=col>⋯</th><th scope=col>Group3_Subgroup_Classification</th><th scope=col>Group4_Subgroup_Classification</th><th scope=col>KEGG_Wnt_pathway_Classification</th><th scope=col>Shh_Subgroup_Classification</th><th scope=col>TGP_Classification</th><th scope=col>Wnt_Subgroup_Classification</th><th scope=col>tSNE_1</th><th scope=col>tSNE_2</th><th scope=col>Methylation_Subgroup</th><th scope=col>Sample_Label</th></tr></thead>\n",
       "<tbody>\n",
       "\t<tr><th scope=row>BCH807.P02.A01</th><td>7777                       </td><td>12042.54                   </td><td>BCH807                     </td><td>GSM3905406                 </td><td>Public on Jul 30 2019      </td><td>Jun 25 2019                </td><td>Jul 30 2019                </td><td>SRA                        </td><td>1                          </td><td>Medulloblastoma, diagnostic</td><td>⋯                          </td><td>FALSE                      </td><td>FALSE                      </td><td> TRUE                      </td><td> TRUE                      </td><td>FALSE                      </td><td> TRUE                      </td><td> 0.1324481                 </td><td>-61.22671                  </td><td>WNT                        </td><td>BCH807 (WNT)               </td></tr>\n",
       "\t<tr><th scope=row>BCH807.P02.A02</th><td>6117                       </td><td>11166.15                   </td><td>BCH807                     </td><td>GSM3905406                 </td><td>Public on Jul 30 2019      </td><td>Jun 25 2019                </td><td>Jul 30 2019                </td><td>SRA                        </td><td>1                          </td><td>Medulloblastoma, diagnostic</td><td>⋯                          </td><td>FALSE                      </td><td>FALSE                      </td><td> TRUE                      </td><td> TRUE                      </td><td> TRUE                      </td><td> TRUE                      </td><td> 2.4042539                 </td><td>-54.95675                  </td><td>WNT                        </td><td>BCH807 (WNT)               </td></tr>\n",
       "\t<tr><th scope=row>BCH807.P02.A03</th><td>5717                       </td><td>10413.35                   </td><td>BCH807                     </td><td>GSM3905406                 </td><td>Public on Jul 30 2019      </td><td>Jun 25 2019                </td><td>Jul 30 2019                </td><td>SRA                        </td><td>1                          </td><td>Medulloblastoma, diagnostic</td><td>⋯                          </td><td>FALSE                      </td><td>FALSE                      </td><td>FALSE                      </td><td>FALSE                      </td><td>FALSE                      </td><td> TRUE                      </td><td> 6.3939187                 </td><td>-53.43443                  </td><td>WNT                        </td><td>BCH807 (WNT)               </td></tr>\n",
       "\t<tr><th scope=row>BCH807.P02.A04</th><td>6813                       </td><td>11307.03                   </td><td>BCH807                     </td><td>GSM3905406                 </td><td>Public on Jul 30 2019      </td><td>Jun 25 2019                </td><td>Jul 30 2019                </td><td>SRA                        </td><td>1                          </td><td>Medulloblastoma, diagnostic</td><td>⋯                          </td><td>FALSE                      </td><td>FALSE                      </td><td> TRUE                      </td><td> TRUE                      </td><td>FALSE                      </td><td>FALSE                      </td><td>-6.2815805                 </td><td>-47.67949                  </td><td>WNT                        </td><td>BCH807 (WNT)               </td></tr>\n",
       "\t<tr><th scope=row>BCH807.P02.A05</th><td>6338                       </td><td>11475.47                   </td><td>BCH807                     </td><td>GSM3905406                 </td><td>Public on Jul 30 2019      </td><td>Jun 25 2019                </td><td>Jul 30 2019                </td><td>SRA                        </td><td>1                          </td><td>Medulloblastoma, diagnostic</td><td>⋯                          </td><td>FALSE                      </td><td>FALSE                      </td><td>FALSE                      </td><td>FALSE                      </td><td>FALSE                      </td><td> TRUE                      </td><td> 2.6779469                 </td><td>-57.59939                  </td><td>WNT                        </td><td>BCH807 (WNT)               </td></tr>\n",
       "\t<tr><th scope=row>BCH807.P02.A06</th><td>7700                       </td><td>11877.21                   </td><td>BCH807                     </td><td>GSM3905406                 </td><td>Public on Jul 30 2019      </td><td>Jun 25 2019                </td><td>Jul 30 2019                </td><td>SRA                        </td><td>1                          </td><td>Medulloblastoma, diagnostic</td><td>⋯                          </td><td>FALSE                      </td><td>FALSE                      </td><td>FALSE                      </td><td>FALSE                      </td><td>FALSE                      </td><td>FALSE                      </td><td>-7.0491397                 </td><td>-47.44551                  </td><td>WNT                        </td><td>BCH807 (WNT)               </td></tr>\n",
       "</tbody>\n",
       "</table>\n"
      ],
      "text/latex": [
       "\\begin{tabular}{r|llllllllllllllllllllllllllllllllllllllllllllllllllllllllllllllllllllllllllllll}\n",
       "  & nGene & nUMI & Sample\\_title & Sample\\_geo\\_accession & Sample\\_status & Sample\\_submission\\_date & Sample\\_last\\_update\\_date & Sample\\_type & Sample\\_channel\\_count & Sample\\_source\\_name\\_ch1 & ⋯ & Group3\\_Subgroup\\_Classification & Group4\\_Subgroup\\_Classification & KEGG\\_Wnt\\_pathway\\_Classification & Shh\\_Subgroup\\_Classification & TGP\\_Classification & Wnt\\_Subgroup\\_Classification & tSNE\\_1 & tSNE\\_2 & Methylation\\_Subgroup & Sample\\_Label\\\\\n",
       "\\hline\n",
       "\tBCH807.P02.A01 & 7777                        & 12042.54                    & BCH807                      & GSM3905406                  & Public on Jul 30 2019       & Jun 25 2019                 & Jul 30 2019                 & SRA                         & 1                           & Medulloblastoma, diagnostic & ⋯                           & FALSE                       & FALSE                       &  TRUE                       &  TRUE                       & FALSE                       &  TRUE                       &  0.1324481                  & -61.22671                   & WNT                         & BCH807 (WNT)               \\\\\n",
       "\tBCH807.P02.A02 & 6117                        & 11166.15                    & BCH807                      & GSM3905406                  & Public on Jul 30 2019       & Jun 25 2019                 & Jul 30 2019                 & SRA                         & 1                           & Medulloblastoma, diagnostic & ⋯                           & FALSE                       & FALSE                       &  TRUE                       &  TRUE                       &  TRUE                       &  TRUE                       &  2.4042539                  & -54.95675                   & WNT                         & BCH807 (WNT)               \\\\\n",
       "\tBCH807.P02.A03 & 5717                        & 10413.35                    & BCH807                      & GSM3905406                  & Public on Jul 30 2019       & Jun 25 2019                 & Jul 30 2019                 & SRA                         & 1                           & Medulloblastoma, diagnostic & ⋯                           & FALSE                       & FALSE                       & FALSE                       & FALSE                       & FALSE                       &  TRUE                       &  6.3939187                  & -53.43443                   & WNT                         & BCH807 (WNT)               \\\\\n",
       "\tBCH807.P02.A04 & 6813                        & 11307.03                    & BCH807                      & GSM3905406                  & Public on Jul 30 2019       & Jun 25 2019                 & Jul 30 2019                 & SRA                         & 1                           & Medulloblastoma, diagnostic & ⋯                           & FALSE                       & FALSE                       &  TRUE                       &  TRUE                       & FALSE                       & FALSE                       & -6.2815805                  & -47.67949                   & WNT                         & BCH807 (WNT)               \\\\\n",
       "\tBCH807.P02.A05 & 6338                        & 11475.47                    & BCH807                      & GSM3905406                  & Public on Jul 30 2019       & Jun 25 2019                 & Jul 30 2019                 & SRA                         & 1                           & Medulloblastoma, diagnostic & ⋯                           & FALSE                       & FALSE                       & FALSE                       & FALSE                       & FALSE                       &  TRUE                       &  2.6779469                  & -57.59939                   & WNT                         & BCH807 (WNT)               \\\\\n",
       "\tBCH807.P02.A06 & 7700                        & 11877.21                    & BCH807                      & GSM3905406                  & Public on Jul 30 2019       & Jun 25 2019                 & Jul 30 2019                 & SRA                         & 1                           & Medulloblastoma, diagnostic & ⋯                           & FALSE                       & FALSE                       & FALSE                       & FALSE                       & FALSE                       & FALSE                       & -7.0491397                  & -47.44551                   & WNT                         & BCH807 (WNT)               \\\\\n",
       "\\end{tabular}\n"
      ],
      "text/markdown": [
       "\n",
       "| <!--/--> | nGene | nUMI | Sample_title | Sample_geo_accession | Sample_status | Sample_submission_date | Sample_last_update_date | Sample_type | Sample_channel_count | Sample_source_name_ch1 | ⋯ | Group3_Subgroup_Classification | Group4_Subgroup_Classification | KEGG_Wnt_pathway_Classification | Shh_Subgroup_Classification | TGP_Classification | Wnt_Subgroup_Classification | tSNE_1 | tSNE_2 | Methylation_Subgroup | Sample_Label | \n",
       "|---|---|---|---|---|---|\n",
       "| BCH807.P02.A01 | 7777                        | 12042.54                    | BCH807                      | GSM3905406                  | Public on Jul 30 2019       | Jun 25 2019                 | Jul 30 2019                 | SRA                         | 1                           | Medulloblastoma, diagnostic | ⋯                           | FALSE                       | FALSE                       |  TRUE                       |  TRUE                       | FALSE                       |  TRUE                       |  0.1324481                  | -61.22671                   | WNT                         | BCH807 (WNT)                | \n",
       "| BCH807.P02.A02 | 6117                        | 11166.15                    | BCH807                      | GSM3905406                  | Public on Jul 30 2019       | Jun 25 2019                 | Jul 30 2019                 | SRA                         | 1                           | Medulloblastoma, diagnostic | ⋯                           | FALSE                       | FALSE                       |  TRUE                       |  TRUE                       |  TRUE                       |  TRUE                       |  2.4042539                  | -54.95675                   | WNT                         | BCH807 (WNT)                | \n",
       "| BCH807.P02.A03 | 5717                        | 10413.35                    | BCH807                      | GSM3905406                  | Public on Jul 30 2019       | Jun 25 2019                 | Jul 30 2019                 | SRA                         | 1                           | Medulloblastoma, diagnostic | ⋯                           | FALSE                       | FALSE                       | FALSE                       | FALSE                       | FALSE                       |  TRUE                       |  6.3939187                  | -53.43443                   | WNT                         | BCH807 (WNT)                | \n",
       "| BCH807.P02.A04 | 6813                        | 11307.03                    | BCH807                      | GSM3905406                  | Public on Jul 30 2019       | Jun 25 2019                 | Jul 30 2019                 | SRA                         | 1                           | Medulloblastoma, diagnostic | ⋯                           | FALSE                       | FALSE                       |  TRUE                       |  TRUE                       | FALSE                       | FALSE                       | -6.2815805                  | -47.67949                   | WNT                         | BCH807 (WNT)                | \n",
       "| BCH807.P02.A05 | 6338                        | 11475.47                    | BCH807                      | GSM3905406                  | Public on Jul 30 2019       | Jun 25 2019                 | Jul 30 2019                 | SRA                         | 1                           | Medulloblastoma, diagnostic | ⋯                           | FALSE                       | FALSE                       | FALSE                       | FALSE                       | FALSE                       |  TRUE                       |  2.6779469                  | -57.59939                   | WNT                         | BCH807 (WNT)                | \n",
       "| BCH807.P02.A06 | 7700                        | 11877.21                    | BCH807                      | GSM3905406                  | Public on Jul 30 2019       | Jun 25 2019                 | Jul 30 2019                 | SRA                         | 1                           | Medulloblastoma, diagnostic | ⋯                           | FALSE                       | FALSE                       | FALSE                       | FALSE                       | FALSE                       | FALSE                       | -7.0491397                  | -47.44551                   | WNT                         | BCH807 (WNT)                | \n",
       "\n",
       "\n"
      ],
      "text/plain": [
       "               nGene nUMI     Sample_title Sample_geo_accession\n",
       "BCH807.P02.A01 7777  12042.54 BCH807       GSM3905406          \n",
       "BCH807.P02.A02 6117  11166.15 BCH807       GSM3905406          \n",
       "BCH807.P02.A03 5717  10413.35 BCH807       GSM3905406          \n",
       "BCH807.P02.A04 6813  11307.03 BCH807       GSM3905406          \n",
       "BCH807.P02.A05 6338  11475.47 BCH807       GSM3905406          \n",
       "BCH807.P02.A06 7700  11877.21 BCH807       GSM3905406          \n",
       "               Sample_status         Sample_submission_date\n",
       "BCH807.P02.A01 Public on Jul 30 2019 Jun 25 2019           \n",
       "BCH807.P02.A02 Public on Jul 30 2019 Jun 25 2019           \n",
       "BCH807.P02.A03 Public on Jul 30 2019 Jun 25 2019           \n",
       "BCH807.P02.A04 Public on Jul 30 2019 Jun 25 2019           \n",
       "BCH807.P02.A05 Public on Jul 30 2019 Jun 25 2019           \n",
       "BCH807.P02.A06 Public on Jul 30 2019 Jun 25 2019           \n",
       "               Sample_last_update_date Sample_type Sample_channel_count\n",
       "BCH807.P02.A01 Jul 30 2019             SRA         1                   \n",
       "BCH807.P02.A02 Jul 30 2019             SRA         1                   \n",
       "BCH807.P02.A03 Jul 30 2019             SRA         1                   \n",
       "BCH807.P02.A04 Jul 30 2019             SRA         1                   \n",
       "BCH807.P02.A05 Jul 30 2019             SRA         1                   \n",
       "BCH807.P02.A06 Jul 30 2019             SRA         1                   \n",
       "               Sample_source_name_ch1      ⋯ Group3_Subgroup_Classification\n",
       "BCH807.P02.A01 Medulloblastoma, diagnostic ⋯ FALSE                         \n",
       "BCH807.P02.A02 Medulloblastoma, diagnostic ⋯ FALSE                         \n",
       "BCH807.P02.A03 Medulloblastoma, diagnostic ⋯ FALSE                         \n",
       "BCH807.P02.A04 Medulloblastoma, diagnostic ⋯ FALSE                         \n",
       "BCH807.P02.A05 Medulloblastoma, diagnostic ⋯ FALSE                         \n",
       "BCH807.P02.A06 Medulloblastoma, diagnostic ⋯ FALSE                         \n",
       "               Group4_Subgroup_Classification KEGG_Wnt_pathway_Classification\n",
       "BCH807.P02.A01 FALSE                           TRUE                          \n",
       "BCH807.P02.A02 FALSE                           TRUE                          \n",
       "BCH807.P02.A03 FALSE                          FALSE                          \n",
       "BCH807.P02.A04 FALSE                           TRUE                          \n",
       "BCH807.P02.A05 FALSE                          FALSE                          \n",
       "BCH807.P02.A06 FALSE                          FALSE                          \n",
       "               Shh_Subgroup_Classification TGP_Classification\n",
       "BCH807.P02.A01  TRUE                       FALSE             \n",
       "BCH807.P02.A02  TRUE                        TRUE             \n",
       "BCH807.P02.A03 FALSE                       FALSE             \n",
       "BCH807.P02.A04  TRUE                       FALSE             \n",
       "BCH807.P02.A05 FALSE                       FALSE             \n",
       "BCH807.P02.A06 FALSE                       FALSE             \n",
       "               Wnt_Subgroup_Classification tSNE_1     tSNE_2   \n",
       "BCH807.P02.A01  TRUE                        0.1324481 -61.22671\n",
       "BCH807.P02.A02  TRUE                        2.4042539 -54.95675\n",
       "BCH807.P02.A03  TRUE                        6.3939187 -53.43443\n",
       "BCH807.P02.A04 FALSE                       -6.2815805 -47.67949\n",
       "BCH807.P02.A05  TRUE                        2.6779469 -57.59939\n",
       "BCH807.P02.A06 FALSE                       -7.0491397 -47.44551\n",
       "               Methylation_Subgroup Sample_Label\n",
       "BCH807.P02.A01 WNT                  BCH807 (WNT)\n",
       "BCH807.P02.A02 WNT                  BCH807 (WNT)\n",
       "BCH807.P02.A03 WNT                  BCH807 (WNT)\n",
       "BCH807.P02.A04 WNT                  BCH807 (WNT)\n",
       "BCH807.P02.A05 WNT                  BCH807 (WNT)\n",
       "BCH807.P02.A06 WNT                  BCH807 (WNT)"
      ]
     },
     "metadata": {},
     "output_type": "display_data"
    }
   ],
   "source": [
    "### load in meta.data\n",
    "\n",
    "file <- \"~/Desktop/Samwise/projects/SinghLab_scMedullo/Brananvan_Wnt/PublicData_Analysis_April2020/GSVA/Hovestadt_Seurat_GSVA_meta.rds\"\n",
    "meta <- readRDS(file)\n",
    "\n",
    "meta$Methylation_Subgroup <- gsub(\"methylation subgroup: \", \"\", meta$Sample_characteristics_ch1.2)\n",
    "meta$Sample_Label <- paste0(meta$Sample_title, \" (\", meta$Methylation_Subgroup, \")\")\n",
    "table(meta$Sample_Label)\n",
    "\n",
    "head(meta)"
   ]
  },
  {
   "cell_type": "markdown",
   "metadata": {},
   "source": [
    "----\n",
    "### 5.1 Patient + Subgroup tSNE\n",
    "----"
   ]
  },
  {
   "cell_type": "code",
   "execution_count": 42,
   "metadata": {},
   "outputs": [
    {
     "data": {
      "text/plain": [
       "\n",
       "       SJ516 (WNT)        MUV44 (WNT)       BCH807 (WNT)         SJ99 (WNT) \n",
       "               507                301                307                338 \n",
       "       SJ129 (WNT) MUV41 (SHH-infant) SJ454 (SHH-infant)  SJ577 (SHH-adult) \n",
       "               313                338                293                493 \n",
       "   MUV11 (Group 3)     SJ17 (Group 3)    SJ917 (Group 3)    SJ617 (Group 3) \n",
       "               431                334                333                400 \n",
       "   MUV29 (Group 3)  BCH1205 (Group 3)    MUV34 (Group 3)   BCH825 (Group 3) \n",
       "               314                326                294                330 \n",
       "   SJ625 (Group 4)    MUV39 (Group 4)    SJ723 (Group 4)    SJ217 (Group 4) \n",
       "               328                241                 75                316 \n",
       "   MUV27 (Group 4)  BCH1031 (Group 4)    MUV19 (Group 4)    MUV37 (Group 4) \n",
       "               314                273                304                190 \n",
       "   SJ970 (Group 4) \n",
       "                52 "
      ]
     },
     "metadata": {},
     "output_type": "display_data"
    }
   ],
   "source": [
    "## order the same way as Figure 1 in Hovestadt et al.,\n",
    "\n",
    "order <- c(\"SJ516 (WNT)\",\n",
    "           \"MUV44 (WNT)\",\n",
    "           \"BCH807 (WNT)\",\n",
    "           \"SJ99 (WNT)\",\n",
    "           \"SJ129 (WNT)\",\n",
    "           \"MUV41 (SHH-infant)\",\n",
    "           \"SJ454 (SHH-infant)\",\n",
    "           \"SJ577 (SHH-adult)\",\n",
    "           \"MUV11 (Group 3)\",\n",
    "           \"SJ17 (Group 3)\",\n",
    "           \"SJ917 (Group 3)\",\n",
    "           \"SJ617 (Group 3)\",\n",
    "           \"MUV29 (Group 3)\",\n",
    "           \"BCH1205 (Group 3)\",\n",
    "           \"MUV34 (Group 3)\",\n",
    "           \"BCH825 (Group 3)\",\n",
    "           \"SJ625 (Group 4)\",\n",
    "           \"MUV39 (Group 4)\",\n",
    "           \"SJ723 (Group 4)\",\n",
    "           \"SJ217 (Group 4)\",\n",
    "           \"MUV27 (Group 4)\",\n",
    "           \"BCH1031 (Group 4)\",\n",
    "           \"MUV19 (Group 4)\",\n",
    "           \"MUV37 (Group 4)\",\n",
    "           \"SJ970 (Group 4)\"\n",
    "          )\n",
    "meta$Sample_Label <- factor(meta$Sample_Label, levels = order)\n",
    "table(meta$Sample_Label)"
   ]
  },
  {
   "cell_type": "code",
   "execution_count": 32,
   "metadata": {},
   "outputs": [
    {
     "data": {
      "text/html": [
       "<ol class=list-inline>\n",
       "\t<li>'#4d004b'</li>\n",
       "\t<li>'#810f7c'</li>\n",
       "\t<li>'#8c6bb1'</li>\n",
       "\t<li>'#9ebcda'</li>\n",
       "\t<li>'#6baed6'</li>\n",
       "\t<li>'#67000d'</li>\n",
       "\t<li>'#ef3b2c'</li>\n",
       "\t<li>'#fc9272'</li>\n",
       "\t<li>'#662506'</li>\n",
       "\t<li>'#993404'</li>\n",
       "\t<li>'#cc4c02'</li>\n",
       "\t<li>'#ec7014'</li>\n",
       "\t<li>'#fe9929'</li>\n",
       "\t<li>'#fec44f'</li>\n",
       "\t<li>'#fee391'</li>\n",
       "\t<li>'#fff7bc'</li>\n",
       "\t<li>'#00441b'</li>\n",
       "\t<li>'#006d2c'</li>\n",
       "\t<li>'#238b45'</li>\n",
       "\t<li>'#41ab5d'</li>\n",
       "\t<li>'#74c476'</li>\n",
       "\t<li>'#a1d99b'</li>\n",
       "\t<li>'#c7e9c0'</li>\n",
       "\t<li>'#41ae76'</li>\n",
       "\t<li>'#99d8c9'</li>\n",
       "</ol>\n"
      ],
      "text/latex": [
       "\\begin{enumerate*}\n",
       "\\item '\\#4d004b'\n",
       "\\item '\\#810f7c'\n",
       "\\item '\\#8c6bb1'\n",
       "\\item '\\#9ebcda'\n",
       "\\item '\\#6baed6'\n",
       "\\item '\\#67000d'\n",
       "\\item '\\#ef3b2c'\n",
       "\\item '\\#fc9272'\n",
       "\\item '\\#662506'\n",
       "\\item '\\#993404'\n",
       "\\item '\\#cc4c02'\n",
       "\\item '\\#ec7014'\n",
       "\\item '\\#fe9929'\n",
       "\\item '\\#fec44f'\n",
       "\\item '\\#fee391'\n",
       "\\item '\\#fff7bc'\n",
       "\\item '\\#00441b'\n",
       "\\item '\\#006d2c'\n",
       "\\item '\\#238b45'\n",
       "\\item '\\#41ab5d'\n",
       "\\item '\\#74c476'\n",
       "\\item '\\#a1d99b'\n",
       "\\item '\\#c7e9c0'\n",
       "\\item '\\#41ae76'\n",
       "\\item '\\#99d8c9'\n",
       "\\end{enumerate*}\n"
      ],
      "text/markdown": [
       "1. '#4d004b'\n",
       "2. '#810f7c'\n",
       "3. '#8c6bb1'\n",
       "4. '#9ebcda'\n",
       "5. '#6baed6'\n",
       "6. '#67000d'\n",
       "7. '#ef3b2c'\n",
       "8. '#fc9272'\n",
       "9. '#662506'\n",
       "10. '#993404'\n",
       "11. '#cc4c02'\n",
       "12. '#ec7014'\n",
       "13. '#fe9929'\n",
       "14. '#fec44f'\n",
       "15. '#fee391'\n",
       "16. '#fff7bc'\n",
       "17. '#00441b'\n",
       "18. '#006d2c'\n",
       "19. '#238b45'\n",
       "20. '#41ab5d'\n",
       "21. '#74c476'\n",
       "22. '#a1d99b'\n",
       "23. '#c7e9c0'\n",
       "24. '#41ae76'\n",
       "25. '#99d8c9'\n",
       "\n",
       "\n"
      ],
      "text/plain": [
       " [1] \"#4d004b\" \"#810f7c\" \"#8c6bb1\" \"#9ebcda\" \"#6baed6\" \"#67000d\" \"#ef3b2c\"\n",
       " [8] \"#fc9272\" \"#662506\" \"#993404\" \"#cc4c02\" \"#ec7014\" \"#fe9929\" \"#fec44f\"\n",
       "[15] \"#fee391\" \"#fff7bc\" \"#00441b\" \"#006d2c\" \"#238b45\" \"#41ab5d\" \"#74c476\"\n",
       "[22] \"#a1d99b\" \"#c7e9c0\" \"#41ae76\" \"#99d8c9\""
      ]
     },
     "metadata": {},
     "output_type": "display_data"
    }
   ],
   "source": [
    "### make custom color paletee\n",
    "### 5 shades blue = Wnt\n",
    "### 3 shades red = SHH\n",
    "### 8 shades orange = GR3\n",
    "### 9 shades green = GR4\n",
    "\n",
    "col.pal <- c(\"#4d004b\", #Wnt\n",
    "             \"#810f7c\",\n",
    "             \"#8c6bb1\",\n",
    "             \"#9ebcda\",\n",
    "             \"#6baed6\",\n",
    "             \"#67000d\", #SHH\n",
    "             \"#ef3b2c\", \n",
    "             \"#fc9272\",\n",
    "             \"#662506\", #GR3\n",
    "             \"#993404\",\n",
    "             \"#cc4c02\",\n",
    "             \"#ec7014\",\n",
    "             \"#fe9929\",\n",
    "             \"#fec44f\",\n",
    "             \"#fee391\",\n",
    "             \"#fff7bc\",\n",
    "             \"#00441b\", #GR4\n",
    "             \"#006d2c\",\n",
    "             \"#238b45\",\n",
    "             \"#41ab5d\",\n",
    "             \"#74c476\",\n",
    "             \"#a1d99b\",\n",
    "             \"#c7e9c0\",\n",
    "             \"#41ae76\",\n",
    "             \"#99d8c9\"\n",
    "            )\n",
    "col.pal"
   ]
  },
  {
   "cell_type": "raw",
   "metadata": {},
   "source": [
    "col.pal.2 <- c(\"white\", #Wnt\n",
    "             \"white\",\n",
    "             \"white\",\n",
    "             \"white\",\n",
    "             \"white\",\n",
    "             \"white\", #SHH\n",
    "             \"white\", \n",
    "             \"white\",\n",
    "             \"white\", #GR3\n",
    "             \"white\",\n",
    "             \"white\",\n",
    "             \"white\",\n",
    "             \"white\",\n",
    "             \"white\",\n",
    "             \"white\",\n",
    "             \"white\",\n",
    "             \"white\", #GR4\n",
    "             \"orange\",\n",
    "             \"blue\",\n",
    "             \"black\",\n",
    "             \"grey\",\n",
    "             \"red\",\n",
    "             \"yellow\",\n",
    "             \"green\",\n",
    "             \"white\"\n",
    "            )\n",
    "col.pal.2"
   ]
  },
  {
   "cell_type": "code",
   "execution_count": 55,
   "metadata": {},
   "outputs": [
    {
     "data": {},
     "metadata": {},
     "output_type": "display_data"
    },
    {
     "data": {
      "image/png": "[encoded data removed]",
      "text/plain": [
       "plot without title"
      ]
     },
     "metadata": {},
     "output_type": "display_data"
    }
   ],
   "source": [
    "patient.tSNE <- ggplot(meta, aes(x=tSNE_1, y=tSNE_2, color=Sample_Label)) + \n",
    "            geom_point(alpha = 0.8, size = 0.8) +  \n",
    "            labs(x = \"tSNE 1\", y = \"tSNE 2\", title = \"7,745 cells (Hovestadt et al.)\") +\n",
    "            scale_colour_manual(values = col.pal.2, name = \"Patient (Methylation Subgroup)\") + \n",
    "            theme_bw() + \n",
    "            theme(axis.text.x = element_blank(), axis.text.y = element_blank(), axis.ticks = element_blank(),\n",
    "              panel.border = element_rect(linetype = \"solid\", fill = NA, size = 1),\n",
    "              panel.grid.major = element_blank(), panel.grid.minor = element_blank(),\n",
    "              panel.background = element_blank()) + \n",
    "                guides(colour = guide_legend(override.aes = list(size=4)))\n",
    "\n",
    "patient.tSNE\n",
    "\n",
    "#pdf(\"~/Desktop/Branavan_Hovestadt_Patient_tSNE.pdf\", width = 9, height = 6)\n",
    "#patient.tSNE\n",
    "#dev.off()"
   ]
  },
  {
   "cell_type": "markdown",
   "metadata": {},
   "source": [
    "----\n",
    "### 5.2 Wnt Subgroup panels\n",
    "----\n",
    "\n",
    "- tSNE with GSVA score\n",
    "- tSNE with classification (binary)\n",
    "- barplot with classification"
   ]
  },
  {
   "cell_type": "code",
   "execution_count": 60,
   "metadata": {
    "collapsed": true
   },
   "outputs": [],
   "source": [
    "setwd(\"~/Desktop/Samwise/projects/SinghLab_scMedullo/Brananvan_Wnt/PublicData_Analysis_April2020/figures/\")"
   ]
  },
  {
   "cell_type": "code",
   "execution_count": 61,
   "metadata": {},
   "outputs": [
    {
     "data": {},
     "metadata": {},
     "output_type": "display_data"
    },
    {
     "data": {},
     "metadata": {},
     "output_type": "display_data"
    },
    {
     "data": {
      "text/html": [
       "<strong>pdf:</strong> 2"
      ],
      "text/latex": [
       "\\textbf{pdf:} 2"
      ],
      "text/markdown": [
       "**pdf:** 2"
      ],
      "text/plain": [
       "pdf \n",
       "  2 "
      ]
     },
     "metadata": {},
     "output_type": "display_data"
    }
   ],
   "source": [
    "pdf(\"Branavan_Hovestadt_WntSubgroup_tSNE.pdf\", width = 6.5, height = 6)\n",
    "\n",
    "#### \n",
    "\n",
    "i <- meta$Wnt_Subgroup_GSVA\n",
    "name <- \"Wnt Subgroup \\nGSVA Score\"\n",
    "j <- meta$Wnt_Subgroup_Classification\n",
    "name2 <- \"Wnt Subgroup\\nClassification\"\n",
    "\n",
    "\n",
    "sp2 <- ggplot(meta, aes(x=tSNE_1, y=tSNE_2, color=i)) + \n",
    "        geom_point(alpha = 0.6, size = 1.5) +  \n",
    "       \n",
    "         scale_colour_gradientn(colours = rev(brewer.pal(10, \"Spectral\")), \n",
    "                                #limits = c(-0.6,0.6), \n",
    "                                name = name) +\n",
    "        labs(x = \"tSNE 1\", y = \"tSNE 2\", title = \"7,745 cells (Hovestadt et al.)\") +\n",
    "        theme_bw() + \n",
    "        theme(axis.text.x = element_blank(), axis.text.y = element_blank(), axis.ticks = element_blank(),\n",
    "              panel.border = element_rect(linetype = \"solid\", fill = NA, size = 1),\n",
    "              panel.grid.major = element_blank(), panel.grid.minor = element_blank(),\n",
    "              panel.background = element_blank())\n",
    "sp2\n",
    "\n",
    "#### Cell Classification\n",
    "\n",
    "sp3 <- ggplot(meta, aes(x=tSNE_1, y=tSNE_2, color=j)) + \n",
    "        geom_point(alpha = 0.45, size = 1.5) +  \n",
    "        #scale_colour_gradientn(colours = c(\"darkblue\", \"white\", \"darkred\"), limits = c(-1,1), name = \"Wnt Subgroup Score\") \n",
    "         scale_colour_manual(values = c(\"grey\", '#9E0142'), name = name2) +\n",
    "        labs(x = \"tSNE 1\", y = \"tSNE 2\", title = \"7,745 cells (Hovestadt et al.)\") +\n",
    "        theme_bw() + \n",
    "        theme(axis.text.x = element_blank(), axis.text.y = element_blank(), axis.ticks = element_blank(),\n",
    "              panel.border = element_rect(linetype = \"solid\", fill = NA, size = 1),\n",
    "              panel.grid.major = element_blank(), panel.grid.minor = element_blank(),\n",
    "              panel.background = element_blank())\n",
    "\n",
    "sp3\n",
    "\n",
    "#### Stacked Barplot\n",
    "\n",
    "counts <- data.matrix(table(meta$Sample_Label, \n",
    "                            meta$Wnt_Subgroup_Classification)\n",
    "                     )\n",
    "\n",
    "\n",
    "par(mar=c(10,5,5,5))\n",
    "barplot(t(counts),\n",
    "        las = 2,\n",
    "        col = c(\"grey\", '#9E0142'),\n",
    "        horiz = F,\n",
    "        ylab = \"Cell Count\",\n",
    "        border = \"black\",\n",
    "        main = name2\n",
    "       )\n",
    "\n",
    "dev.off()"
   ]
  },
  {
   "cell_type": "markdown",
   "metadata": {},
   "source": [
    "---\n",
    "### 5.3 KEGG Wnt pathway panels\n",
    "---"
   ]
  },
  {
   "cell_type": "code",
   "execution_count": 67,
   "metadata": {},
   "outputs": [
    {
     "data": {},
     "metadata": {},
     "output_type": "display_data"
    },
    {
     "data": {},
     "metadata": {},
     "output_type": "display_data"
    },
    {
     "data": {
      "text/html": [
       "<strong>pdf:</strong> 2"
      ],
      "text/latex": [
       "\\textbf{pdf:} 2"
      ],
      "text/markdown": [
       "**pdf:** 2"
      ],
      "text/plain": [
       "pdf \n",
       "  2 "
      ]
     },
     "metadata": {},
     "output_type": "display_data"
    }
   ],
   "source": [
    "pdf(\"Branavan_Hovestadt_KEGGWnt_tSNE.pdf\", width = 6.5, height = 6)\n",
    "\n",
    "#### \n",
    "\n",
    "i <- meta$KEGG_Wnt_pathway_GSVA\n",
    "name <- \"KEGG Wnt\\nPathway\\nGSVA Score\"\n",
    "\n",
    "j <- meta$KEGG_Wnt_pathway_Classification\n",
    "name2 <- \"KEGG Wnt\\nPathway\\nClassification\"\n",
    "\n",
    "sp2 <- ggplot(meta, aes(x=tSNE_1, y=tSNE_2, color=i)) + \n",
    "        geom_point(alpha = 0.6, size = 1.5) +  \n",
    "       \n",
    "         scale_colour_gradientn(colours = rev(brewer.pal(10, \"Spectral\")), \n",
    "                                #limits = c(-0.6,0.6), \n",
    "                                name = name) +\n",
    "        labs(x = \"tSNE 1\", y = \"tSNE 2\", title = \"7,745 cells (Hovestadt et al.)\") +\n",
    "        theme_bw() + \n",
    "        theme(axis.text.x = element_blank(), axis.text.y = element_blank(), axis.ticks = element_blank(),\n",
    "              panel.border = element_rect(linetype = \"solid\", fill = NA, size = 1),\n",
    "              panel.grid.major = element_blank(), panel.grid.minor = element_blank(),\n",
    "              panel.background = element_blank())\n",
    "sp2\n",
    "\n",
    "#### Cell Classification\n",
    "\n",
    "sp3 <- ggplot(meta, aes(x=tSNE_1, y=tSNE_2, color=j)) + \n",
    "        geom_point(alpha = 0.45, size = 1.5) +  \n",
    "        #scale_colour_gradientn(colours = c(\"darkblue\", \"white\", \"darkred\"), limits = c(-1,1), name = \"Wnt Subgroup Score\") \n",
    "         scale_colour_manual(values = c(\"grey\", '#9E0142'), name = name2) +\n",
    "        labs(x = \"tSNE 1\", y = \"tSNE 2\", title = \"7,745 cells (Hovestadt et al.)\") +\n",
    "        theme_bw() + \n",
    "        theme(axis.text.x = element_blank(), axis.text.y = element_blank(), axis.ticks = element_blank(),\n",
    "              panel.border = element_rect(linetype = \"solid\", fill = NA, size = 1),\n",
    "              panel.grid.major = element_blank(), panel.grid.minor = element_blank(),\n",
    "              panel.background = element_blank())\n",
    "\n",
    "sp3\n",
    "\n",
    "#### Stacked Barplot\n",
    "\n",
    "counts <- data.matrix(table(meta$Sample_Label, \n",
    "                            meta$KEGG_Wnt_pathway_Classification)\n",
    "                     )\n",
    "\n",
    "\n",
    "par(mar=c(10,5,5,5))\n",
    "barplot(t(counts),\n",
    "        las = 2,\n",
    "        col = c(\"grey\", '#9E0142'),\n",
    "        horiz = F,\n",
    "        ylab = \"Cell Count\",\n",
    "        border = \"black\",\n",
    "        main = name2\n",
    "       )\n",
    "\n",
    "dev.off()"
   ]
  },
  {
   "cell_type": "markdown",
   "metadata": {},
   "source": [
    "---\n",
    "### 5.3 Canonical Wnt Pathway\n",
    "---"
   ]
  },
  {
   "cell_type": "code",
   "execution_count": 66,
   "metadata": {},
   "outputs": [
    {
     "data": {},
     "metadata": {},
     "output_type": "display_data"
    },
    {
     "data": {},
     "metadata": {},
     "output_type": "display_data"
    },
    {
     "data": {
      "text/html": [
       "<strong>pdf:</strong> 2"
      ],
      "text/latex": [
       "\\textbf{pdf:} 2"
      ],
      "text/markdown": [
       "**pdf:** 2"
      ],
      "text/plain": [
       "pdf \n",
       "  2 "
      ]
     },
     "metadata": {},
     "output_type": "display_data"
    }
   ],
   "source": [
    "pdf(\"Branavan_Hovestadt_CanonicalWnt_tSNE.pdf\", width = 6.5, height = 6)\n",
    "\n",
    "#### \n",
    "\n",
    "i <- meta$Canonical_Wnt_pathway_GSVA\n",
    "name <- \"Canonical Wnt\\npathway\\nGSVA Score\"\n",
    "\n",
    "j <- meta$Canonical_Wnt_pathway_Classification\n",
    "name2 <- \"Canonical Wnt\\nPathway\\nClassification\"\n",
    "\n",
    "sp2 <- ggplot(meta, aes(x=tSNE_1, y=tSNE_2, color=i)) + \n",
    "        geom_point(alpha = 0.6, size = 1.5) +  \n",
    "       \n",
    "         scale_colour_gradientn(colours = rev(brewer.pal(10, \"Spectral\")), \n",
    "                                #limits = c(-0.6,0.6), \n",
    "                                name = name) +\n",
    "        labs(x = \"tSNE 1\", y = \"tSNE 2\", title = \"7,745 cells (Hovestadt et al.)\") +\n",
    "        theme_bw() + \n",
    "        theme(axis.text.x = element_blank(), axis.text.y = element_blank(), axis.ticks = element_blank(),\n",
    "              panel.border = element_rect(linetype = \"solid\", fill = NA, size = 1),\n",
    "              panel.grid.major = element_blank(), panel.grid.minor = element_blank(),\n",
    "              panel.background = element_blank())\n",
    "sp2\n",
    "\n",
    "#### Cell Classification\n",
    "\n",
    "sp3 <- ggplot(meta, aes(x=tSNE_1, y=tSNE_2, color=j)) + \n",
    "        geom_point(alpha = 0.45, size = 1.5) +  \n",
    "        #scale_colour_gradientn(colours = c(\"darkblue\", \"white\", \"darkred\"), limits = c(-1,1), name = \"Wnt Subgroup Score\") \n",
    "         scale_colour_manual(values = c(\"grey\", '#9E0142'), name = name2) +\n",
    "        labs(x = \"tSNE 1\", y = \"tSNE 2\", title = \"7,745 cells (Hovestadt et al.)\") +\n",
    "        theme_bw() + \n",
    "        theme(axis.text.x = element_blank(), axis.text.y = element_blank(), axis.ticks = element_blank(),\n",
    "              panel.border = element_rect(linetype = \"solid\", fill = NA, size = 1),\n",
    "              panel.grid.major = element_blank(), panel.grid.minor = element_blank(),\n",
    "              panel.background = element_blank())\n",
    "\n",
    "sp3\n",
    "\n",
    "#### Stacked Barplot\n",
    "\n",
    "counts <- data.matrix(table(meta$Sample_Label, \n",
    "                            meta$Canonical_Wnt_pathway_Classification)\n",
    "                     )\n",
    "\n",
    "\n",
    "par(mar=c(10,5,5,5))\n",
    "barplot(t(counts),\n",
    "        las = 2,\n",
    "        col = c(\"grey\", '#9E0142'),\n",
    "        horiz = F,\n",
    "        ylab = \"Cell Count\",\n",
    "        border = \"black\",\n",
    "        main = name2\n",
    "       )\n",
    "\n",
    "dev.off()"
   ]
  },
  {
   "cell_type": "markdown",
   "metadata": {
    "collapsed": true
   },
   "source": [
    "----"
   ]
  }
 ],
 "metadata": {
  "kernelspec": {
   "display_name": "R",
   "language": "R",
   "name": "ir"
  },
  "language_info": {
   "codemirror_mode": "r",
   "file_extension": ".r",
   "mimetype": "text/x-r-source",
   "name": "R",
   "pygments_lexer": "r",
   "version": "3.6.3"
  }
 },
 "nbformat": 4,
 "nbformat_minor": 2
}
