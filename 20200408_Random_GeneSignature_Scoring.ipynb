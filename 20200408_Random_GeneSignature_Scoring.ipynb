{
 "cells": [
  {
   "cell_type": "markdown",
   "metadata": {},
   "source": [
    "---\n",
    "## Gene Signature Scoring with Random Background signatures\n",
    "\n",
    "L.Richards  \n",
    "April 2020  \n",
    "\n",
    "---"
   ]
  },
  {
   "cell_type": "raw",
   "metadata": {
    "collapsed": true
   },
   "source": [
    "### submit bash scripts on H4H\n",
    "\n",
    "sbatch runGSVA_RandomSigs.sh Group3_Subgroup_random_lists.rds                                                    \n",
    "sbatch runGSVA_RandomSigs.sh KEGG_Wnt_pathway_random_lists.rds                                                \n",
    "sbatch runGSVA_RandomSigs.sh Shh_Subgroup_random_lists.rds                                                 \n",
    "sbatch runGSVA_RandomSigs.sh TGP_random_lists.rds                                              \n",
    "sbatch runGSVA_RandomSigs.sh common.WNT_random_lists.rds                                \n",
    "sbatch runGSVA_RandomSigs.sh Group4_Subgroup_random_lists.rds                       \n",
    "sbatch runGSVA_RandomSigs.sh Wnt_Subgroup_random_lists.rds\n",
    "sbatch runGSVA_RandomSigs.sh Canonical_Wnt_pathway_random_lists.rds"
   ]
  },
  {
   "cell_type": "code",
   "execution_count": null,
   "metadata": {
    "collapsed": true
   },
   "outputs": [],
   "source": [
    "#!/bin/bash\n",
    "#SBATCH -t 72:00:00  #\t<-- walltime for your job in format of days-hours:minutes:seconds\n",
    "#SBATCH --mem=60G    #\t<-- amount of memory your job needs to run, in megabytes by default\n",
    "#SBATCH -p himem     #  <-- partition you job wants to run\n",
    "#SBATCH -c 1 \t     #  <-- number of CPUs your job needs to run\n",
    "#SBATCH -N 1 \t     #  <-- number of nodes your job needs to run. Please use 1 node unless you are running mpi jobs.\n",
    "\n",
    "###########\n",
    "### GSVA  on Random Gene Sigs\n",
    "### L.Richards\n",
    "### April 8, 2020\n",
    "############\n",
    "\n",
    "module load R/3.5.0\n",
    "\n",
    "Rscript GSVA_RandomSigs.R $1\n"
   ]
  },
  {
   "cell_type": "code",
   "execution_count": null,
   "metadata": {
    "collapsed": true
   },
   "outputs": [],
   "source": [
    "library(\"Seurat\", \n",
    "        lib=\"/cluster/projects/pughlab/projects/BTSCs_scRNAseq/Manuscript_G607removed/bin/\"\n",
    "       )\n",
    "\n",
    "suppressPackageStartupMessages({\n",
    "    #library(GSEABase)\n",
    "    library(GSVA)\n",
    "    #library(Biobase)\n",
    "    library(RColorBrewer)\n",
    "    library(parallel)\n",
    "    #library(GSA)\n",
    "    library(qvalue)\n",
    "    library(taRifx)\n",
    "    library(optparse)\n",
    "})\n",
    "\n",
    "###############\n",
    "load.file <- args[1] ##path to random gene sig\n",
    "print(load.file)\n",
    "\n",
    "######\n",
    "setwd(\"/cluster/home/lrichard/Branavan_NatComm/GSVA/Random_Sigs/\")\n",
    "\n",
    "print(\"Load Seurat Data\")\n",
    "\n",
    "### load in data and gene signatures\n",
    "Wnt_medullo <- readRDS(\"/cluster/home/lrichard/Branavan_NatComm/GSVA/Hovestadt_Seurat_GSVA.rds\")\n",
    "dat <- as.matrix(Wnt_medullo@scale.data)\n",
    "\n",
    "print(\"---------\")\n",
    "print(load.file)\n",
    "print(Sys.time())\n",
    "    \n",
    "random.sigs <- readRDS(load.file)\n",
    "\n",
    "print(\"Scoring random lists with GSVA\")\n",
    "print(\"Scoring on scaled data\")\n",
    "print(Sys.time())\n",
    "\n",
    "##### GSVA on random sigs \n",
    "EnrichmentScores <- gsva(expr = dat, \n",
    "                         gset.idx.list = random.sigs, \n",
    "                         method = \"gsva\",\n",
    "                         min.sz = 2, \n",
    "                         max.sz = Inf, \n",
    "                         mx.diff = TRUE, \n",
    "                         verbose = T, \n",
    "                         parallel.sz = 10\n",
    "                        )\n",
    "    \n",
    "print(\"Saving GSVA results\")\n",
    "print(Sys.time())\n",
    "    \n",
    "filename <- gsub(\"_random_lists.rds\", \"_GSVA_SCORES.rds\", load.file)\n",
    "print(filename)\n",
    "saveRDS(EnrichmentScores, file = filename)\n",
    "    \n",
    "print(\"\")\n",
    "print(\"\")\n",
    "print(\"END\")\n",
    "print(Sys.time())"
   ]
  }
 ],
 "metadata": {
  "kernelspec": {
   "display_name": "R",
   "language": "R",
   "name": "ir"
  },
  "language_info": {
   "codemirror_mode": "r",
   "file_extension": ".r",
   "mimetype": "text/x-r-source",
   "name": "R",
   "pygments_lexer": "r",
   "version": "3.6.3"
  }
 },
 "nbformat": 4,
 "nbformat_minor": 2
}
